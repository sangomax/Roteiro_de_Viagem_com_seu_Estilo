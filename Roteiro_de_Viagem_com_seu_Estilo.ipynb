{
  "nbformat": 4,
  "nbformat_minor": 0,
  "metadata": {
    "colab": {
      "provenance": [],
      "authorship_tag": "ABX9TyMVUPBImBC4u2wZEHeFpYJ8",
      "include_colab_link": true
    },
    "kernelspec": {
      "name": "python3",
      "display_name": "Python 3"
    },
    "language_info": {
      "name": "python"
    }
  },
  "cells": [
    {
      "cell_type": "markdown",
      "metadata": {
        "id": "view-in-github",
        "colab_type": "text"
      },
      "source": [
        "<a href=\"https://colab.research.google.com/github/sangomax/Roteiro_de_Viagem_com_seu_Estilo/blob/main/Roteiro_de_Viagem_com_seu_Estilo.ipynb\" target=\"_parent\"><img src=\"https://colab.research.google.com/assets/colab-badge.svg\" alt=\"Open In Colab\"/></a>"
      ]
    },
    {
      "cell_type": "markdown",
      "source": [
        "<H1>Imersão Inteligência Artificial - Alura + Google</H1>\n",
        "\n",
        "<h3>Projeto de gerar roteiro de viagem com seu estilo</h3>"
      ],
      "metadata": {
        "id": "p6xdCWs_pWrm"
      }
    },
    {
      "cell_type": "markdown",
      "source": [
        "*   Instalando o SDK para usar o **Gemini**\n",
        "\n"
      ],
      "metadata": {
        "id": "DVwk7PNFnxm0"
      }
    },
    {
      "cell_type": "code",
      "execution_count": 1,
      "metadata": {
        "id": "Xt7JgX0vnect"
      },
      "outputs": [],
      "source": [
        "!pip install -q -U google-generativeai"
      ]
    },
    {
      "cell_type": "markdown",
      "source": [
        "*   Importando as bibliotecas necessarias para o projeto\n",
        "*   Adicionando a **API KEY** do Google **GEMINI**\n",
        "\n",
        "\n"
      ],
      "metadata": {
        "id": "tweO16ElpCH2"
      }
    },
    {
      "cell_type": "code",
      "source": [
        "import google.generativeai as genai\n",
        "import textwrap\n",
        "\n",
        "from google.colab import userdata\n",
        "from IPython.display import display\n",
        "from IPython.display import Markdown\n",
        "\n",
        "GOOGLE_API_KEY=userdata.get('GOOGLE_API_KEY')\n",
        "genai.configure(api_key=GOOGLE_API_KEY)\n"
      ],
      "metadata": {
        "id": "EKXC_kG6ohal"
      },
      "execution_count": 2,
      "outputs": []
    },
    {
      "cell_type": "markdown",
      "source": [
        "*   Inicializando o modelo generativo"
      ],
      "metadata": {
        "id": "wDmpO-eksx5O"
      }
    },
    {
      "cell_type": "code",
      "source": [
        "model = genai.GenerativeModel('gemini-1.5-pro-latest')"
      ],
      "metadata": {
        "id": "MiMIBhK5p8kA"
      },
      "execution_count": 13,
      "outputs": []
    },
    {
      "cell_type": "markdown",
      "source": [
        "*   Obtendo Informações do usuario"
      ],
      "metadata": {
        "id": "cDKcZZV1tcRL"
      }
    },
    {
      "cell_type": "code",
      "source": [
        "estilo = input(\"Informe o seu estilo para o roteiro. \\n(Ex: Instagramer, TikToker, Turista, Morador Local)\\n\\n\")\n",
        "dias = input(\"\\nQuantos dias de roteiro você gostaria\\n\\n\")\n",
        "cidade = input(\"\\nQual a cidade para gerar o roteiro\\n\\n\")"
      ],
      "metadata": {
        "colab": {
          "base_uri": "https://localhost:8080/"
        },
        "id": "9-zXh9tHtctp",
        "outputId": "a8da2a95-c112-4e2d-b7e0-12a424d88dd7"
      },
      "execution_count": 33,
      "outputs": [
        {
          "name": "stdout",
          "output_type": "stream",
          "text": [
            "Informe o seu estilo para o roteiro. \n",
            "(Ex: Instagramer, TikToker, Turista, Morador Local)\n",
            "\n",
            "Rock Roll\n",
            "\n",
            "Quantos dias de roteiro você gostaria\n",
            "\n",
            "3\n",
            "\n",
            "Qual a cidade para gerar o roteiro\n",
            "\n",
            "São Paulo\n"
          ]
        }
      ]
    },
    {
      "cell_type": "markdown",
      "source": [
        "*   Gerando o prompt e retorno"
      ],
      "metadata": {
        "id": "S8QJF1EstCKP"
      }
    },
    {
      "cell_type": "code",
      "source": [
        "response = model.generate_content(f\"Aja como uma pessoa {estilo}, planeje um roteiro de {dias} dias para a cidade {cidade}\")"
      ],
      "metadata": {
        "id": "Ygy28I-4rxeu"
      },
      "execution_count": 34,
      "outputs": []
    },
    {
      "cell_type": "markdown",
      "source": [
        "*   Formatar o retorno"
      ],
      "metadata": {
        "id": "hVFmpT3t4bzu"
      }
    },
    {
      "cell_type": "code",
      "source": [
        "def to_markdown(text):\n",
        "  text = text.replace('•', '  *')\n",
        "  return Markdown(textwrap.indent(text, '> ', predicate=lambda _: True))"
      ],
      "metadata": {
        "id": "8YnExucvwcyH"
      },
      "execution_count": 35,
      "outputs": []
    },
    {
      "cell_type": "markdown",
      "source": [
        "*   Exibindo o retorno"
      ],
      "metadata": {
        "id": "ok03IDo34vvk"
      }
    },
    {
      "cell_type": "code",
      "source": [
        "display(to_markdown(response.text))"
      ],
      "metadata": {
        "colab": {
          "base_uri": "https://localhost:8080/",
          "height": 620
        },
        "id": "SgxB6w1N4ivx",
        "outputId": "e8478b56-a60a-470f-e11d-c66d5ed9c8ef"
      },
      "execution_count": 36,
      "outputs": [
        {
          "output_type": "display_data",
          "data": {
            "text/plain": [
              "<IPython.core.display.Markdown object>"
            ],
            "text/markdown": "> ## Roteiro Rock'n'Roll em Sampa: 3 Dias de Pura Energia! 🤘\n> \n> São Paulo é um caldeirão cultural fervendo de música boa e atitude, o lugar perfeito pra um roqueiro se sentir em casa. Prepara o coturno e a jaqueta de couro que vamos detonar nesse roteiro de 3 dias: \n> \n> **Dia 1 - Mergulho na História do Rock Paulistano**\n> \n> * **Manhã:** Começa o dia na Galeria do Rock, templo sagrado do rock e de diversas tribos urbanas. Explora as lojas de discos, roupas, acessórios e tatuagens, respirando a atmosfera única do lugar.\n> * **Tarde:** Almoça um rango caprichado no Mercado Municipal, provando os clássicos sanduíches de mortadela e pastel de bacalhau. Depois, visita a exposição sobre a história do rock no Museu da Imagem e do Som (MIS). \n> * **Noite:** Curte um show de rock no lendário Hangar 110 ou no Sesc Pompeia, duas casas que sempre trazem bandas incríveis. Se liga na programação e se prepara pra agitar! \n> \n> **Dia 2 - Arte Urbana e Noite Underground**\n> \n> * **Manhã:** Pega o metrô e vai até a Vila Madalena, bairro boêmio cheio de grafites e arte de rua. Perde-te pelas vielas, descobre novos artistas e tira fotos incríveis.\n> * **Tarde:** Depois de explorar a Vila Madalena, curte um almoço num dos bares descolados da região, com opções pra todos os gostos.\n> * **Noite:** Experimenta a noite underground paulistana! Confere a programação de casas como o Inferno Club ou o Augusta 339, que oferecem shows de rock alternativo, punk e metal. \n> \n> **Dia 3 - Relax e Cultura Rock**\n> \n> * **Manhã:** Dá uma volta pelo Parque Ibirapuera, aproveita o verde e relaxa ao som da natureza. Se tiver rolando algum evento de música ao ar livre, melhor ainda!\n> * **Tarde:** Visita a Japan House, um centro cultural incrível com exposições e eventos relacionados à cultura japonesa, que tem forte influência no rock. \n> * **Noite:** Fecha o roteiro com chave de ouro num bar com música ao vivo, como o Morrison Rock Bar ou o O'Malley's, curtindo clássicos do rock e tomando aquela cerveja gelada. \n> \n> **Dicas Extras:**\n> \n> * Fica de olho nas agendas culturais online para descobrir eventos e shows durante sua estadia.\n> * A cidade tem uma ótima rede de transporte público, então aproveita o metrô e os ônibus.\n> * Se liga nos brechós e lojas de discos da Galeria do Rock e da Rua Augusta, dá pra achar verdadeiros tesouros! \n> * Não esquece de levar sua câmera pra registrar os melhores momentos dessa viagem rock'n'roll! \n> \n> **Curta São Paulo com toda a energia e atitude que o rock merece! 🤘** \n"
          },
          "metadata": {}
        }
      ]
    }
  ]
}